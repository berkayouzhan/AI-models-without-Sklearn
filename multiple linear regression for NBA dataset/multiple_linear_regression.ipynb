{
  "nbformat": 4,
  "nbformat_minor": 0,
  "metadata": {
    "colab": {
      "provenance": []
    },
    "kernelspec": {
      "name": "python3",
      "display_name": "Python 3"
    },
    "language_info": {
      "name": "python"
    }
  },
  "cells": [
    {
      "cell_type": "markdown",
      "source": [
        "# **Libraries**"
      ],
      "metadata": {
        "id": "fPmBEOWQ9GpZ"
      }
    },
    {
      "cell_type": "code",
      "execution_count": null,
      "metadata": {
        "id": "bwMShJB-b_v3"
      },
      "outputs": [],
      "source": [
        "import numpy as np\n",
        "import pandas as pd\n",
        "import matplotlib.pyplot as plt"
      ]
    },
    {
      "cell_type": "markdown",
      "source": [
        "# **Dataset**"
      ],
      "metadata": {
        "id": "Qb45HVpw9MS8"
      }
    },
    {
      "cell_type": "code",
      "source": [
        "dataset = pd.read_csv(r'/content/NBA.csv')"
      ],
      "metadata": {
        "id": "hUKuMaQjfZec"
      },
      "execution_count": null,
      "outputs": []
    },
    {
      "cell_type": "code",
      "source": [
        "dataset = dataset.drop(columns=['NAME', 'TEAM','POS'])"
      ],
      "metadata": {
        "collapsed": true,
        "id": "2x2l34TDyvMq"
      },
      "execution_count": null,
      "outputs": []
    },
    {
      "cell_type": "code",
      "source": [
        "dataset.head()"
      ],
      "metadata": {
        "colab": {
          "base_uri": "https://localhost:8080/",
          "height": 235
        },
        "id": "FZwgqqKRfgQm",
        "outputId": "2a86fcd4-2506-4bf9-ff85-632a19c8e29b",
        "collapsed": true
      },
      "execution_count": null,
      "outputs": [
        {
          "output_type": "execute_result",
          "data": {
            "text/plain": [
              "   RANK   AGE  GP   MPG  USG%   TO%  FTA    FT%  2PA    2P%  ...  APG  SPG  \\\n",
              "0     1  30.2   6  41.4  35.7  15.8   78  0.859   94  0.489  ...  5.7  1.2   \n",
              "1     2  27.8  13  39.8  36.4   9.3  120  0.775  256  0.488  ...  7.5  0.8   \n",
              "2     3  33.9   4  39.1  31.4  10.0   38  0.974   33  0.424  ...  5.0  1.0   \n",
              "3     4  25.9  10  39.9  32.3   8.9   81  0.790  187  0.508  ...  6.4  1.3   \n",
              "4     5  23.6   6  44.6  28.1   8.6   28  0.893   83  0.530  ...  6.8  0.8   \n",
              "\n",
              "   BPG  TPG   P+R   P+A  P+R+A    VI   ORtg   DRtg  \n",
              "0  1.5  4.2  43.8  38.7   49.5  12.2  117.1  108.0  \n",
              "1  0.2  2.7  35.7  39.8   43.2   9.3  114.8  114.7  \n",
              "2  0.0  2.3  34.5  36.3   39.5   8.2  127.6  115.7  \n",
              "3  1.7  2.2  37.4  36.6   43.8  11.2  118.3  106.9  \n",
              "4  0.3  2.2  35.0  36.7   41.8   9.1  120.9  113.3  \n",
              "\n",
              "[5 rows x 26 columns]"
            ],
            "text/html": [
              "\n",
              "  <div id=\"df-0dce543b-e1d5-4217-9376-b019cfb7714f\" class=\"colab-df-container\">\n",
              "    <div>\n",
              "<style scoped>\n",
              "    .dataframe tbody tr th:only-of-type {\n",
              "        vertical-align: middle;\n",
              "    }\n",
              "\n",
              "    .dataframe tbody tr th {\n",
              "        vertical-align: top;\n",
              "    }\n",
              "\n",
              "    .dataframe thead th {\n",
              "        text-align: right;\n",
              "    }\n",
              "</style>\n",
              "<table border=\"1\" class=\"dataframe\">\n",
              "  <thead>\n",
              "    <tr style=\"text-align: right;\">\n",
              "      <th></th>\n",
              "      <th>RANK</th>\n",
              "      <th>AGE</th>\n",
              "      <th>GP</th>\n",
              "      <th>MPG</th>\n",
              "      <th>USG%</th>\n",
              "      <th>TO%</th>\n",
              "      <th>FTA</th>\n",
              "      <th>FT%</th>\n",
              "      <th>2PA</th>\n",
              "      <th>2P%</th>\n",
              "      <th>...</th>\n",
              "      <th>APG</th>\n",
              "      <th>SPG</th>\n",
              "      <th>BPG</th>\n",
              "      <th>TPG</th>\n",
              "      <th>P+R</th>\n",
              "      <th>P+A</th>\n",
              "      <th>P+R+A</th>\n",
              "      <th>VI</th>\n",
              "      <th>ORtg</th>\n",
              "      <th>DRtg</th>\n",
              "    </tr>\n",
              "  </thead>\n",
              "  <tbody>\n",
              "    <tr>\n",
              "      <th>0</th>\n",
              "      <td>1</td>\n",
              "      <td>30.2</td>\n",
              "      <td>6</td>\n",
              "      <td>41.4</td>\n",
              "      <td>35.7</td>\n",
              "      <td>15.8</td>\n",
              "      <td>78</td>\n",
              "      <td>0.859</td>\n",
              "      <td>94</td>\n",
              "      <td>0.489</td>\n",
              "      <td>...</td>\n",
              "      <td>5.7</td>\n",
              "      <td>1.2</td>\n",
              "      <td>1.5</td>\n",
              "      <td>4.2</td>\n",
              "      <td>43.8</td>\n",
              "      <td>38.7</td>\n",
              "      <td>49.5</td>\n",
              "      <td>12.2</td>\n",
              "      <td>117.1</td>\n",
              "      <td>108.0</td>\n",
              "    </tr>\n",
              "    <tr>\n",
              "      <th>1</th>\n",
              "      <td>2</td>\n",
              "      <td>27.8</td>\n",
              "      <td>13</td>\n",
              "      <td>39.8</td>\n",
              "      <td>36.4</td>\n",
              "      <td>9.3</td>\n",
              "      <td>120</td>\n",
              "      <td>0.775</td>\n",
              "      <td>256</td>\n",
              "      <td>0.488</td>\n",
              "      <td>...</td>\n",
              "      <td>7.5</td>\n",
              "      <td>0.8</td>\n",
              "      <td>0.2</td>\n",
              "      <td>2.7</td>\n",
              "      <td>35.7</td>\n",
              "      <td>39.8</td>\n",
              "      <td>43.2</td>\n",
              "      <td>9.3</td>\n",
              "      <td>114.8</td>\n",
              "      <td>114.7</td>\n",
              "    </tr>\n",
              "    <tr>\n",
              "      <th>2</th>\n",
              "      <td>3</td>\n",
              "      <td>33.9</td>\n",
              "      <td>4</td>\n",
              "      <td>39.1</td>\n",
              "      <td>31.4</td>\n",
              "      <td>10.0</td>\n",
              "      <td>38</td>\n",
              "      <td>0.974</td>\n",
              "      <td>33</td>\n",
              "      <td>0.424</td>\n",
              "      <td>...</td>\n",
              "      <td>5.0</td>\n",
              "      <td>1.0</td>\n",
              "      <td>0.0</td>\n",
              "      <td>2.3</td>\n",
              "      <td>34.5</td>\n",
              "      <td>36.3</td>\n",
              "      <td>39.5</td>\n",
              "      <td>8.2</td>\n",
              "      <td>127.6</td>\n",
              "      <td>115.7</td>\n",
              "    </tr>\n",
              "    <tr>\n",
              "      <th>3</th>\n",
              "      <td>4</td>\n",
              "      <td>25.9</td>\n",
              "      <td>10</td>\n",
              "      <td>39.9</td>\n",
              "      <td>32.3</td>\n",
              "      <td>8.9</td>\n",
              "      <td>81</td>\n",
              "      <td>0.790</td>\n",
              "      <td>187</td>\n",
              "      <td>0.508</td>\n",
              "      <td>...</td>\n",
              "      <td>6.4</td>\n",
              "      <td>1.3</td>\n",
              "      <td>1.7</td>\n",
              "      <td>2.2</td>\n",
              "      <td>37.4</td>\n",
              "      <td>36.6</td>\n",
              "      <td>43.8</td>\n",
              "      <td>11.2</td>\n",
              "      <td>118.3</td>\n",
              "      <td>106.9</td>\n",
              "    </tr>\n",
              "    <tr>\n",
              "      <th>4</th>\n",
              "      <td>5</td>\n",
              "      <td>23.6</td>\n",
              "      <td>6</td>\n",
              "      <td>44.6</td>\n",
              "      <td>28.1</td>\n",
              "      <td>8.6</td>\n",
              "      <td>28</td>\n",
              "      <td>0.893</td>\n",
              "      <td>83</td>\n",
              "      <td>0.530</td>\n",
              "      <td>...</td>\n",
              "      <td>6.8</td>\n",
              "      <td>0.8</td>\n",
              "      <td>0.3</td>\n",
              "      <td>2.2</td>\n",
              "      <td>35.0</td>\n",
              "      <td>36.7</td>\n",
              "      <td>41.8</td>\n",
              "      <td>9.1</td>\n",
              "      <td>120.9</td>\n",
              "      <td>113.3</td>\n",
              "    </tr>\n",
              "  </tbody>\n",
              "</table>\n",
              "<p>5 rows × 26 columns</p>\n",
              "</div>\n",
              "    <div class=\"colab-df-buttons\">\n",
              "\n",
              "  <div class=\"colab-df-container\">\n",
              "    <button class=\"colab-df-convert\" onclick=\"convertToInteractive('df-0dce543b-e1d5-4217-9376-b019cfb7714f')\"\n",
              "            title=\"Convert this dataframe to an interactive table.\"\n",
              "            style=\"display:none;\">\n",
              "\n",
              "  <svg xmlns=\"http://www.w3.org/2000/svg\" height=\"24px\" viewBox=\"0 -960 960 960\">\n",
              "    <path d=\"M120-120v-720h720v720H120Zm60-500h600v-160H180v160Zm220 220h160v-160H400v160Zm0 220h160v-160H400v160ZM180-400h160v-160H180v160Zm440 0h160v-160H620v160ZM180-180h160v-160H180v160Zm440 0h160v-160H620v160Z\"/>\n",
              "  </svg>\n",
              "    </button>\n",
              "\n",
              "  <style>\n",
              "    .colab-df-container {\n",
              "      display:flex;\n",
              "      gap: 12px;\n",
              "    }\n",
              "\n",
              "    .colab-df-convert {\n",
              "      background-color: #E8F0FE;\n",
              "      border: none;\n",
              "      border-radius: 50%;\n",
              "      cursor: pointer;\n",
              "      display: none;\n",
              "      fill: #1967D2;\n",
              "      height: 32px;\n",
              "      padding: 0 0 0 0;\n",
              "      width: 32px;\n",
              "    }\n",
              "\n",
              "    .colab-df-convert:hover {\n",
              "      background-color: #E2EBFA;\n",
              "      box-shadow: 0px 1px 2px rgba(60, 64, 67, 0.3), 0px 1px 3px 1px rgba(60, 64, 67, 0.15);\n",
              "      fill: #174EA6;\n",
              "    }\n",
              "\n",
              "    .colab-df-buttons div {\n",
              "      margin-bottom: 4px;\n",
              "    }\n",
              "\n",
              "    [theme=dark] .colab-df-convert {\n",
              "      background-color: #3B4455;\n",
              "      fill: #D2E3FC;\n",
              "    }\n",
              "\n",
              "    [theme=dark] .colab-df-convert:hover {\n",
              "      background-color: #434B5C;\n",
              "      box-shadow: 0px 1px 3px 1px rgba(0, 0, 0, 0.15);\n",
              "      filter: drop-shadow(0px 1px 2px rgba(0, 0, 0, 0.3));\n",
              "      fill: #FFFFFF;\n",
              "    }\n",
              "  </style>\n",
              "\n",
              "    <script>\n",
              "      const buttonEl =\n",
              "        document.querySelector('#df-0dce543b-e1d5-4217-9376-b019cfb7714f button.colab-df-convert');\n",
              "      buttonEl.style.display =\n",
              "        google.colab.kernel.accessAllowed ? 'block' : 'none';\n",
              "\n",
              "      async function convertToInteractive(key) {\n",
              "        const element = document.querySelector('#df-0dce543b-e1d5-4217-9376-b019cfb7714f');\n",
              "        const dataTable =\n",
              "          await google.colab.kernel.invokeFunction('convertToInteractive',\n",
              "                                                    [key], {});\n",
              "        if (!dataTable) return;\n",
              "\n",
              "        const docLinkHtml = 'Like what you see? Visit the ' +\n",
              "          '<a target=\"_blank\" href=https://colab.research.google.com/notebooks/data_table.ipynb>data table notebook</a>'\n",
              "          + ' to learn more about interactive tables.';\n",
              "        element.innerHTML = '';\n",
              "        dataTable['output_type'] = 'display_data';\n",
              "        await google.colab.output.renderOutput(dataTable, element);\n",
              "        const docLink = document.createElement('div');\n",
              "        docLink.innerHTML = docLinkHtml;\n",
              "        element.appendChild(docLink);\n",
              "      }\n",
              "    </script>\n",
              "  </div>\n",
              "\n",
              "\n",
              "<div id=\"df-d7b159e0-784e-435d-87b5-34d52ce4d99d\">\n",
              "  <button class=\"colab-df-quickchart\" onclick=\"quickchart('df-d7b159e0-784e-435d-87b5-34d52ce4d99d')\"\n",
              "            title=\"Suggest charts\"\n",
              "            style=\"display:none;\">\n",
              "\n",
              "<svg xmlns=\"http://www.w3.org/2000/svg\" height=\"24px\"viewBox=\"0 0 24 24\"\n",
              "     width=\"24px\">\n",
              "    <g>\n",
              "        <path d=\"M19 3H5c-1.1 0-2 .9-2 2v14c0 1.1.9 2 2 2h14c1.1 0 2-.9 2-2V5c0-1.1-.9-2-2-2zM9 17H7v-7h2v7zm4 0h-2V7h2v10zm4 0h-2v-4h2v4z\"/>\n",
              "    </g>\n",
              "</svg>\n",
              "  </button>\n",
              "\n",
              "<style>\n",
              "  .colab-df-quickchart {\n",
              "      --bg-color: #E8F0FE;\n",
              "      --fill-color: #1967D2;\n",
              "      --hover-bg-color: #E2EBFA;\n",
              "      --hover-fill-color: #174EA6;\n",
              "      --disabled-fill-color: #AAA;\n",
              "      --disabled-bg-color: #DDD;\n",
              "  }\n",
              "\n",
              "  [theme=dark] .colab-df-quickchart {\n",
              "      --bg-color: #3B4455;\n",
              "      --fill-color: #D2E3FC;\n",
              "      --hover-bg-color: #434B5C;\n",
              "      --hover-fill-color: #FFFFFF;\n",
              "      --disabled-bg-color: #3B4455;\n",
              "      --disabled-fill-color: #666;\n",
              "  }\n",
              "\n",
              "  .colab-df-quickchart {\n",
              "    background-color: var(--bg-color);\n",
              "    border: none;\n",
              "    border-radius: 50%;\n",
              "    cursor: pointer;\n",
              "    display: none;\n",
              "    fill: var(--fill-color);\n",
              "    height: 32px;\n",
              "    padding: 0;\n",
              "    width: 32px;\n",
              "  }\n",
              "\n",
              "  .colab-df-quickchart:hover {\n",
              "    background-color: var(--hover-bg-color);\n",
              "    box-shadow: 0 1px 2px rgba(60, 64, 67, 0.3), 0 1px 3px 1px rgba(60, 64, 67, 0.15);\n",
              "    fill: var(--button-hover-fill-color);\n",
              "  }\n",
              "\n",
              "  .colab-df-quickchart-complete:disabled,\n",
              "  .colab-df-quickchart-complete:disabled:hover {\n",
              "    background-color: var(--disabled-bg-color);\n",
              "    fill: var(--disabled-fill-color);\n",
              "    box-shadow: none;\n",
              "  }\n",
              "\n",
              "  .colab-df-spinner {\n",
              "    border: 2px solid var(--fill-color);\n",
              "    border-color: transparent;\n",
              "    border-bottom-color: var(--fill-color);\n",
              "    animation:\n",
              "      spin 1s steps(1) infinite;\n",
              "  }\n",
              "\n",
              "  @keyframes spin {\n",
              "    0% {\n",
              "      border-color: transparent;\n",
              "      border-bottom-color: var(--fill-color);\n",
              "      border-left-color: var(--fill-color);\n",
              "    }\n",
              "    20% {\n",
              "      border-color: transparent;\n",
              "      border-left-color: var(--fill-color);\n",
              "      border-top-color: var(--fill-color);\n",
              "    }\n",
              "    30% {\n",
              "      border-color: transparent;\n",
              "      border-left-color: var(--fill-color);\n",
              "      border-top-color: var(--fill-color);\n",
              "      border-right-color: var(--fill-color);\n",
              "    }\n",
              "    40% {\n",
              "      border-color: transparent;\n",
              "      border-right-color: var(--fill-color);\n",
              "      border-top-color: var(--fill-color);\n",
              "    }\n",
              "    60% {\n",
              "      border-color: transparent;\n",
              "      border-right-color: var(--fill-color);\n",
              "    }\n",
              "    80% {\n",
              "      border-color: transparent;\n",
              "      border-right-color: var(--fill-color);\n",
              "      border-bottom-color: var(--fill-color);\n",
              "    }\n",
              "    90% {\n",
              "      border-color: transparent;\n",
              "      border-bottom-color: var(--fill-color);\n",
              "    }\n",
              "  }\n",
              "</style>\n",
              "\n",
              "  <script>\n",
              "    async function quickchart(key) {\n",
              "      const quickchartButtonEl =\n",
              "        document.querySelector('#' + key + ' button');\n",
              "      quickchartButtonEl.disabled = true;  // To prevent multiple clicks.\n",
              "      quickchartButtonEl.classList.add('colab-df-spinner');\n",
              "      try {\n",
              "        const charts = await google.colab.kernel.invokeFunction(\n",
              "            'suggestCharts', [key], {});\n",
              "      } catch (error) {\n",
              "        console.error('Error during call to suggestCharts:', error);\n",
              "      }\n",
              "      quickchartButtonEl.classList.remove('colab-df-spinner');\n",
              "      quickchartButtonEl.classList.add('colab-df-quickchart-complete');\n",
              "    }\n",
              "    (() => {\n",
              "      let quickchartButtonEl =\n",
              "        document.querySelector('#df-d7b159e0-784e-435d-87b5-34d52ce4d99d button');\n",
              "      quickchartButtonEl.style.display =\n",
              "        google.colab.kernel.accessAllowed ? 'block' : 'none';\n",
              "    })();\n",
              "  </script>\n",
              "</div>\n",
              "\n",
              "    </div>\n",
              "  </div>\n"
            ],
            "application/vnd.google.colaboratory.intrinsic+json": {
              "type": "dataframe",
              "variable_name": "dataset"
            }
          },
          "metadata": {},
          "execution_count": 11
        }
      ]
    },
    {
      "cell_type": "code",
      "source": [
        "dataset.shape"
      ],
      "metadata": {
        "colab": {
          "base_uri": "https://localhost:8080/"
        },
        "id": "gxQ_uhmjfg80",
        "outputId": "dcfdc1fd-9c8f-4886-f01e-22575c4b5946"
      },
      "execution_count": null,
      "outputs": [
        {
          "output_type": "execute_result",
          "data": {
            "text/plain": [
              "(213, 26)"
            ]
          },
          "metadata": {},
          "execution_count": 12
        }
      ]
    },
    {
      "cell_type": "code",
      "source": [
        "y = np.array([])\n",
        "X = np.array([])\n",
        "# b = 5\n",
        "# vectorization f = np.dot(w,x) + b"
      ],
      "metadata": {
        "id": "P5HKJQM7f_Dn"
      },
      "execution_count": null,
      "outputs": []
    },
    {
      "cell_type": "code",
      "source": [
        "X = dataset.iloc[:, 1:].values\n",
        "y = dataset.iloc[:, 0].values"
      ],
      "metadata": {
        "id": "dGmXIR2Wm5ie"
      },
      "execution_count": null,
      "outputs": []
    },
    {
      "cell_type": "code",
      "source": [
        "print(f\"X Shape: {X.shape}, X Type:{type(X)})\")\n",
        "print(X)\n",
        "print(f\"y Shape: {y.shape}, X Type:{type(y)})\")\n",
        "print(y)"
      ],
      "metadata": {
        "colab": {
          "base_uri": "https://localhost:8080/"
        },
        "collapsed": true,
        "id": "6wrEiHA9s0Np",
        "outputId": "6b9e5d71-a8e3-4910-d9fd-25300db21314"
      },
      "execution_count": null,
      "outputs": [
        {
          "output_type": "stream",
          "name": "stdout",
          "text": [
            "X Shape: (213, 25), X Type:<class 'numpy.ndarray'>)\n",
            "[[ 30.2   6.   41.4 ...  12.2 117.1 108. ]\n",
            " [ 27.8  13.   39.8 ...   9.3 114.8 114.7]\n",
            " [ 33.9   4.   39.1 ...   8.2 127.6 115.7]\n",
            " ...\n",
            " [ 36.    1.    3.6 ...   0.    0.    0. ]\n",
            " [ 30.8   3.    3.8 ...   0.    0.    0. ]\n",
            " [ 35.3   1.    3.6 ...   0.    0.    0. ]]\n",
            "y Shape: (213,), X Type:<class 'numpy.ndarray'>)\n",
            "[  1   2   3   4   5   6   7   8   9  10  11  12  13  14  15  16  17  18\n",
            "  19  20  21  22  23  24  25  26  27  28  29  30  31  32  33  34  35  36\n",
            "  37  38  39  40  41  42  43  44  45  46  47  48  49  50  51  52  53  54\n",
            "  55  56  57  58  59  60  61  62  63  64  65  66  67  68  69  70  71  72\n",
            "  73  74  75  76  77  78  79  80  81  82  83  84  85  86  87  88  89  90\n",
            "  91  92  93  94  95  96  97  98  99 100 101 102 103 104 105 106 107 108\n",
            " 109 110 111 112 113 114 115 116 117 118 119 120 121 122 123 124 125 126\n",
            " 127 128 129 130 131 132 133 134 135 136 137 138 139 140 141 142 143 144\n",
            " 145 146 147 148 149 150 151 152 153 154 155 156 157 158 159 160 161 162\n",
            " 163 164 165 166 167 168 169 170 171 172 173 174 175 176 177 178 179 180\n",
            " 181 182 183 184 185 186 187 188 189 190 191 192 193 194 195 196 197 198\n",
            " 199 200 201 202 203 204 205 206 207 208 209 210 211 212 213]\n"
          ]
        }
      ]
    },
    {
      "cell_type": "markdown",
      "source": [
        "# **Normalization**"
      ],
      "metadata": {
        "id": "azDWKewE9TYE"
      }
    },
    {
      "cell_type": "code",
      "source": [
        "X = (X - X.mean())/X.std()\n",
        "y = (y - y.mean())/y.std()"
      ],
      "metadata": {
        "collapsed": true,
        "id": "vVsDR_6mtNLh"
      },
      "execution_count": null,
      "outputs": []
    },
    {
      "cell_type": "markdown",
      "source": [
        "# **Constant 1 to X matrice**"
      ],
      "metadata": {
        "id": "PMch-dz99W5C"
      }
    },
    {
      "cell_type": "code",
      "source": [
        "X = np.hstack((np.ones((X.shape[0], 1)), X))"
      ],
      "metadata": {
        "id": "0pBIBhfg5pux"
      },
      "execution_count": null,
      "outputs": []
    },
    {
      "cell_type": "markdown",
      "source": [
        "# **Beta(Regression coefficients)**"
      ],
      "metadata": {
        "id": "Kxpez0Fb9g9K"
      }
    },
    {
      "cell_type": "code",
      "source": [
        "# Normal equation: (X^T X)^{-1} X^T y\n",
        "beta = np.linalg.inv(X.T @ X) @ X.T @ y\n",
        "\n",
        "print(\"Regression coefficients:\", beta)\n"
      ],
      "metadata": {
        "colab": {
          "base_uri": "https://localhost:8080/"
        },
        "id": "FEZP7-tD6D08",
        "outputId": "dfb3c4ff-fec7-4122-bc1f-3a7b19f8659d"
      },
      "execution_count": null,
      "outputs": [
        {
          "output_type": "stream",
          "name": "stdout",
          "text": [
            "Regression coefficients: [-1.29955193e+01 -2.93902429e-02 -1.44004207e-01 -1.08990437e+00\n",
            " -3.31379761e-01  1.12542355e-01  1.32788566e-01 -5.97070855e+00\n",
            " -3.37627999e-02 -8.74657640e-01 -2.17054653e-02 -2.10674439e+00\n",
            " -1.39988717e+01 -1.19107087e+00 -7.76455775e-01  7.04809150e+00\n",
            " -4.62223483e+00 -1.26121033e+00 -9.44957889e-01 -5.09711454e-01\n",
            " -7.38648772e+00  6.36347223e+00  3.28822304e-01 -8.03546931e-01\n",
            " -5.24023141e-03 -4.45510171e-02]\n"
          ]
        }
      ]
    },
    {
      "cell_type": "code",
      "source": [
        "y_pred = X @ beta"
      ],
      "metadata": {
        "id": "zmDThyqr6twq"
      },
      "execution_count": null,
      "outputs": []
    },
    {
      "cell_type": "markdown",
      "source": [
        "# **Performance testing**"
      ],
      "metadata": {
        "id": "vFLV60ka9pVT"
      }
    },
    {
      "cell_type": "code",
      "source": [
        "# Hata kareleri toplamı (Sum of Squared Errors, SSE)\n",
        "sse = np.sum((y - y_pred) ** 2)\n",
        "\n",
        "# Ortalama kare hata (Mean Squared Error, MSE)\n",
        "mse = sse / len(y)\n",
        "\n",
        "# R-kare değeri (R-squared value)\n",
        "sst = np.sum((y - np.mean(y)) ** 2)\n",
        "r_squared = 1 - (sse / sst)\n"
      ],
      "metadata": {
        "id": "0G_-F-SC6wLl"
      },
      "execution_count": null,
      "outputs": []
    },
    {
      "cell_type": "code",
      "source": [
        "print(\"Ortalama Kare Hata (MSE):\", mse)\n",
        "print(\"R-kare Değeri:\", r_squared)\n"
      ],
      "metadata": {
        "colab": {
          "base_uri": "https://localhost:8080/"
        },
        "id": "EhS3xvhu7KDt",
        "outputId": "5bda03b7-8144-49e9-a20f-4a25a3b701e5"
      },
      "execution_count": null,
      "outputs": [
        {
          "output_type": "stream",
          "name": "stdout",
          "text": [
            "Ortalama Kare Hata (MSE): 0.024924236512160847\n",
            "R-kare Değeri: 0.9750757634878392\n"
          ]
        }
      ]
    },
    {
      "cell_type": "code",
      "source": [
        "plt.scatter(y, y_pred)\n",
        "plt.xlabel('actual values')\n",
        "plt.ylabel('predictions')\n",
        "plt.title('Extramus')\n",
        "plt.plot([min(y), max(y)], [min(y), max(y)], color='red')  # Y = X doğrusunu çiz\n",
        "plt.show()"
      ],
      "metadata": {
        "colab": {
          "base_uri": "https://localhost:8080/",
          "height": 472
        },
        "id": "HGO3ztwB7Osz",
        "outputId": "4114df18-567f-4e1d-8874-0bc7f1c18916"
      },
      "execution_count": null,
      "outputs": [
        {
          "output_type": "display_data",
          "data": {
            "text/plain": [
              "<Figure size 640x480 with 1 Axes>"
            ],
            "image/png": "[encoded data removed]"
          },
          "metadata": {}
        }
      ]
    }
  ]
}